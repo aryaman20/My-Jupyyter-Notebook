{
  "metadata": {
    "kernelspec": {
      "name": "python",
      "display_name": "Python (Pyodide)",
      "language": "python"
    },
    "language_info": {
      "codemirror_mode": {
        "name": "python",
        "version": 3
      },
      "file_extension": ".py",
      "mimetype": "text/x-python",
      "name": "python",
      "nbconvert_exporter": "python",
      "pygments_lexer": "ipython3",
      "version": "3.8"
    }
  },
  "nbformat_minor": 4,
  "nbformat": 4,
  "cells": [
    {
      "cell_type": "markdown",
      "source": "# Data Science Tools and Ecosystem",
      "metadata": {}
    },
    {
      "cell_type": "markdown",
      "source": "In this notebook, Data Science Tools and Ecosystems are summarized.",
      "metadata": {}
    },
    {
      "cell_type": "markdown",
      "source": "Some of the popular languages Data Scientists use are:\n1. Python\n2. SQL\n3. R\n4. C++\n%. Java...etc",
      "metadata": {}
    },
    {
      "cell_type": "markdown",
      "source": "Some of the libraries Data Scientists use are:\n1. Pandas\n2. NumPy\n3. Matplotlib\n4. Seaborn\n5. Scikit-learn\n6. TensorFlow\n7. Keras\n8. NLTK",
      "metadata": {}
    },
    {
      "cell_type": "markdown",
      "source": "## Data Science Tools\n| Tool           | Description                            |\n|----------------|----------------------------------------|\n| Jupyter        | Interactive computing environment      |\n| RStudio        | IDE for R                              |\n| Apache Spark   | Cluster-computing framework            |\n| TensorFlow     | Open-source machine learning library   |\n| Apache Hadoop  | Framework for distributed storage and processing of big data |",
      "metadata": {}
    },
    {
      "cell_type": "markdown",
      "source": "## Create a markdown cell introducing arithmetic expression examples",
      "metadata": {}
    },
    {
      "cell_type": "markdown",
      "source": "Below are examples of simple arithmetic expressions:\n\n1. Addition: \\(3 + 2 = 5\\)\n2. Subtraction: \\(7 - 4 = 3\\)\n3. Multiplication: \\(6 \\times 3 = 18\\)\n4. Division: \\(8 \\div 2 = 4\\)",
      "metadata": {}
    },
    {
      "cell_type": "markdown",
      "source": "## Create a code cell to multiply and add numbers",
      "metadata": {}
    },
    {
      "cell_type": "code",
      "source": "result = (5 * 6) + 3\nresult",
      "metadata": {
        "trusted": true
      },
      "outputs": [
        {
          "execution_count": 2,
          "output_type": "execute_result",
          "data": {
            "text/plain": "33"
          },
          "metadata": {}
        }
      ],
      "execution_count": 2
    },
    {
      "cell_type": "markdown",
      "source": "## Create a code cell to convert minutes to hours",
      "metadata": {}
    },
    {
      "cell_type": "code",
      "source": "minutes = 150\nhours = minutes / 60\nhours",
      "metadata": {
        "trusted": true
      },
      "outputs": [
        {
          "execution_count": 1,
          "output_type": "execute_result",
          "data": {
            "text/plain": "2.5"
          },
          "metadata": {}
        }
      ],
      "execution_count": 1
    },
    {
      "cell_type": "markdown",
      "source": "## Insert a markdown cell to list Objectives",
      "metadata": {}
    },
    {
      "cell_type": "markdown",
      "source": "__Objective__\n\n- List popular languages for Data Science\n- List commonly used libraries in Data Science\n- Create a table of Data Science tools\n- Perform simple arithmetic operations",
      "metadata": {}
    },
    {
      "cell_type": "markdown",
      "source": "## Create a markdown cell to indicate the Author’s name",
      "metadata": {}
    },
    {
      "cell_type": "markdown",
      "source": "Jane Doe",
      "metadata": {}
    }
  ]
}